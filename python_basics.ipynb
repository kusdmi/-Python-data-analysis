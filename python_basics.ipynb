{
 "cells": [
  {
   "cell_type": "markdown",
   "metadata": {},
   "source": [
    "**Задание 1**. Даны 2 строки: *long_phrase* и *short_phrase*. \n",
    "Напишите код, который проверяет действительно ли длинная фраза *long_phrase* длиннее короткой *short_phrase*. И выводит *True* или *False* в зависимости от результата сравнения."
   ]
  },
  {
   "cell_type": "code",
   "execution_count": 2,
   "metadata": {},
   "outputs": [],
   "source": [
    "long_phrase = 'Насколько проще было бы писать программы, если бы не заказчики'\n",
    "short_phrase = '640Кб должно хватить для любых задач. Билл Гейтс (по легенде)'"
   ]
  },
  {
   "cell_type": "code",
   "execution_count": 3,
   "metadata": {},
   "outputs": [
    {
     "data": {
      "text/plain": [
       "True"
      ]
     },
     "execution_count": 3,
     "metadata": {},
     "output_type": "execute_result"
    }
   ],
   "source": [
    "long_phrase = 'Насколько проще было бы писать программы, если бы не заказчики'\n",
    "short_phrase = '640Кб должно хватить для любых задач. Билл Гейтс (по легенде)'\n",
    "\n",
    "len(long_phrase) > len(short_phrase)"
   ]
  },
  {
   "cell_type": "markdown",
   "metadata": {},
   "source": [
    "**Задание 2**. Дано значение объема файла в байтах (*в мегабайте 2^20 байт*). Напишите перевод этого значения в мегабайты в формате: \"*Объем файла равен 213.68Mb*\"."
   ]
  },
  {
   "cell_type": "code",
   "execution_count": 8,
   "metadata": {},
   "outputs": [
    {
     "name": "stdout",
     "output_type": "stream",
     "text": [
      "Объем файла равен 1.048576 Mb\n"
     ]
    }
   ],
   "source": [
    "x=2\n",
    "y=20\n",
    "c=1000000\n",
    "volume = x ** y / c\n",
    "print ('Объем файла равен' , volume , 'Mb')"
   ]
  },
  {
   "cell_type": "markdown",
   "metadata": {},
   "source": [
    "**Задание 3**. Разработать приложение для определения знака зодиака по дате рождения. Пример:\n",
    "\n",
    "Введите месяц: март\n",
    "\n",
    "Введите число: 6\n",
    "\n",
    "Вывод:\n",
    "Рыбы"
   ]
  },
  {
   "cell_type": "code",
   "execution_count": 9,
   "metadata": {},
   "outputs": [
    {
     "name": "stdout",
     "output_type": "stream",
     "text": [
      "Введите месяц рождения: октябрь\n",
      "Введите день рождения: 15\n",
      "Ваш знак зодиака - весы\n"
     ]
    }
   ],
   "source": [
    "month = input(\"Введите месяц рождения: \")\n",
    "month = month.lower()\n",
    "date = int(input(\"Введите день рождения: \"))\n",
    "\n",
    "if month == 'март':\n",
    "  sign = 'овен' if (date >= 21) else 'рыбы'\n",
    "elif month == 'апрель':\n",
    "  sign = 'телец' if (date >= 21) else 'овен'\n",
    "elif month == 'май':\n",
    "  sign = 'близнецы' if (date >= 22) else 'телец'\n",
    "elif month == 'июнь':\n",
    "  sign = 'рак' if (date >= 22) else 'близнецы'\n",
    "elif month == 'июль':\n",
    "  sign = 'лев' if (date >= 23) else 'рак'\n",
    "elif month == 'август':\n",
    "  sign = 'дева' if (date >= 24) else 'лев'\n",
    "elif month == 'сентябрь':\n",
    "  sign = 'весы' if (date >= 24) else 'дева'\n",
    "elif month == 'октябрь':\n",
    "  sign = 'скорпион' if (date >= 24) else 'весы'\n",
    "elif month == 'ноябрь':\n",
    "  sign = 'стрелец' if (date >= 23) else 'скорпион'\n",
    "elif month == 'декабрь':\n",
    "  sign = 'козерог' if (date >= 23) else 'стрелец'\n",
    "elif month == 'январь':\n",
    "  sign = 'водолей' if (date >= 21) else 'козерог'\n",
    "elif month == 'февраль':\n",
    "  sign = 'рыбы' if (date >= 21) else 'водолей'\n",
    "print (\"Ваш знак зодиака - \" + sign);"
   ]
  },
  {
   "cell_type": "markdown",
   "metadata": {},
   "source": [
    "**Задание 4**. Нужно разработать приложение для финансового планирования.\n",
    "Приложение учитывает сколько уходит на ипотеку, \"на жизнь\" и сколько нужно отложить на пенсию.\n",
    "Пользователь вводит:\n",
    "- заработанную плату в месяц.\n",
    "- сколько процентов от ЗП уходит на ипотеку.\n",
    "- сколько процентов от ЗП уходит \"на жизнь\".\n",
    "- сколько раз приходит премия в год.\n",
    "\n",
    "Остальная часть заработанной платы откладывается на пенсию.\n",
    "\n",
    "Также пользователю приходит премия в размере зарплаты, от которой половина уходит на отпуск, а вторая половина откладывается.\n",
    "\n",
    "Программа должна учитывать сколько премий было в год.\n",
    "\n",
    "Нужно вывести сколько денег тратит пользователь на ипотеку и сколько он накопит за год.\n",
    "\n",
    "Пример:\n",
    "\n",
    "Введите заработанную плату в месяц: 100000\n",
    "\n",
    "Введите сколько процентов уходит на ипотеку: 30\n",
    "\n",
    "Введите сколько процентов уходит на жизнь: 50\n",
    "\n",
    "Введите количество премий за год: 2\n",
    "\n",
    "Вывод:\n",
    "На ипотеку было потрачено: 360000 рублей\n",
    "Было накоплено: 340000 рублей"
   ]
  },
  {
   "cell_type": "code",
   "execution_count": 4,
   "metadata": {},
   "outputs": [
    {
     "name": "stdout",
     "output_type": "stream",
     "text": [
      "Какая у вас зарплата? 100000\n",
      "Сколько % уходит на ипотеку? 30\n",
      "Сколько % уходит на жизнь? 50\n",
      "Сколько премий в год? 2\n",
      "\n",
      "Вывод:\n",
      " На ипотеку было потрачено: 360000.0 \n",
      " За год вы накопите: 340000.0\n"
     ]
    }
   ],
   "source": [
    "salary = input('Какая у вас зарплата? ')\n",
    "salary_year = int(salary) * 12\n",
    "#print ('Ваша зарплата в год', salary_year)\n",
    "\n",
    "mortgage = input('Сколько % уходит на ипотеку? ')\n",
    "mortgage_year = (int(salary_year) * int(mortgage)) / 100\n",
    "#print ('Тратите на ипотеку' , mortgage_year , 'рублей в год')\n",
    "\n",
    "life = input('Сколько % уходит на жизнь? ')\n",
    "life_year = (int(salary_year) * int(life)) / 100\n",
    "#print ('В год на жизнь тратите' , life_year)\n",
    "\n",
    "bonus = input ('Сколько премий в год? ')\n",
    "bonus_year = (int(salary) * int(bonus))\n",
    "#print ('У вас' , bonus , 'премии в год, общей суммой', bonus_year , 'рублей')\n",
    "\n",
    "\n",
    "accumulation_year = int(salary_year) - int(mortgage_year) - int(life_year) + (int(bonus_year) / 2)  \n",
    "print ('\\nВывод:\\n' , 'На ипотеку было потрачено:' , mortgage_year, '\\n' , 'За год вы накопите:', accumulation_year)"
   ]
  }
 ],
 "metadata": {
  "kernelspec": {
   "display_name": "Python 3",
   "language": "python",
   "name": "python3"
  },
  "language_info": {
   "codemirror_mode": {
    "name": "ipython",
    "version": 3
   },
   "file_extension": ".py",
   "mimetype": "text/x-python",
   "name": "python",
   "nbconvert_exporter": "python",
   "pygments_lexer": "ipython3",
   "version": "3.7.6"
  }
 },
 "nbformat": 4,
 "nbformat_minor": 2
}
